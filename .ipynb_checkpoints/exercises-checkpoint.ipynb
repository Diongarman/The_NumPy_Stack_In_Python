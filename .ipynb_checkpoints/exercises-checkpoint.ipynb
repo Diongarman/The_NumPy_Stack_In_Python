{
 "cells": [
  {
   "cell_type": "code",
   "execution_count": 4,
   "metadata": {},
   "outputs": [],
   "source": [
    "import numpy as np"
   ]
  },
  {
   "cell_type": "code",
   "execution_count": 1,
   "metadata": {},
   "outputs": [],
   "source": [
    "a = [1,2]\n",
    "b = [3,4]"
   ]
  },
  {
   "cell_type": "code",
   "execution_count": 138,
   "metadata": {},
   "outputs": [],
   "source": [
    "def dot(row, col):\n",
    "    dot = 0\n",
    "\n",
    "    for i in range(len(row)):\n",
    "        dot += row[i] * col[i]\n",
    "    \n",
    "    return dot\n",
    "\n",
    "def transp(M):\n",
    "    #create a row for every column in original \n",
    "    M_T = [[] for i in range(len(M[0]))]\n",
    "    \n",
    "    #for each row index\n",
    "        #for each column index\n",
    "    for i in range(len(M)):\n",
    "        for j in range(len(M[i])):\n",
    "            M_T[j].append(M[i][j])\n",
    "            \n",
    "    return M_T\n",
    "    "
   ]
  },
  {
   "cell_type": "code",
   "execution_count": 144,
   "metadata": {},
   "outputs": [],
   "source": [
    "def mat_mul(A, B):\n",
    "    A_is_nested = any(isinstance(i, list) for i in A)\n",
    "    B_is_nested = any(isinstance(i, list) for i in B)\n",
    "    \n",
    "    if (A_is_nested and B_is_nested):\n",
    "        print('MATRIX Multiplication')\n",
    "        \n",
    "        #transpose B\n",
    "        B_T = transp(B)\n",
    "        \n",
    "        #make a list of dot products\n",
    "        dot_prod_flat_list = []\n",
    "        for row in A:\n",
    "            for col in B_T:\n",
    "                dot_prod_flat_list.append(dot(row, col))\n",
    "        \n",
    "        #turn flat dot product list into a matrix of appropriate dimension\n",
    "        C = [dot_prod_flat_list[i:i+len(B_T)] for i in range(0, len(dot_prod_flat_list), len(B_T))]\n",
    "        return np.array(C)\n",
    "    \n",
    "    print('Vector dot prod')\n",
    "    return dot(A,B)\n",
    "    "
   ]
  },
  {
   "cell_type": "code",
   "execution_count": 145,
   "metadata": {},
   "outputs": [
    {
     "data": {
      "text/plain": [
       "[[1, 2], [3, 4]]"
      ]
     },
     "execution_count": 145,
     "metadata": {},
     "output_type": "execute_result"
    }
   ],
   "source": [
    "A = [[1,2], [3,4]]\n",
    "A"
   ]
  },
  {
   "cell_type": "code",
   "execution_count": 146,
   "metadata": {},
   "outputs": [
    {
     "data": {
      "text/plain": [
       "[[1, 2, 3, 4], [5, 6, 7, 8]]"
      ]
     },
     "execution_count": 146,
     "metadata": {},
     "output_type": "execute_result"
    }
   ],
   "source": [
    "B = [[1,2,3,4], [5,6,7,8]]\n",
    "B"
   ]
  },
  {
   "cell_type": "code",
   "execution_count": 147,
   "metadata": {},
   "outputs": [],
   "source": [
    "#STEPS\n",
    "\n",
    "#transpose B\n",
    "#iterate rows of A\n",
    "    #iterate rows of B.T (same as iterating cols of B)\n",
    "#calculate dot(row, col)\n",
    "#create an appropriately sized result matrix C\n",
    "#append dot product to correct entry of C\n",
    "\n",
    "\n",
    "\n",
    "#TODO \n",
    "#do timing experiments\n",
    "#time for various sizes - use random data generating functions to make it dynamic\n",
    "#write unit tests"
   ]
  },
  {
   "cell_type": "code",
   "execution_count": 148,
   "metadata": {},
   "outputs": [
    {
     "name": "stdout",
     "output_type": "stream",
     "text": [
      "MATRIX Multiplication\n"
     ]
    },
    {
     "data": {
      "text/plain": [
       "array([[11, 14, 17, 20],\n",
       "       [23, 30, 37, 44]])"
      ]
     },
     "execution_count": 148,
     "metadata": {},
     "output_type": "execute_result"
    }
   ],
   "source": [
    "mat_mul(A,B)"
   ]
  },
  {
   "cell_type": "code",
   "execution_count": null,
   "metadata": {},
   "outputs": [],
   "source": []
  }
 ],
 "metadata": {
  "kernelspec": {
   "display_name": "Python 3",
   "language": "python",
   "name": "python3"
  },
  "language_info": {
   "codemirror_mode": {
    "name": "ipython",
    "version": 3
   },
   "file_extension": ".py",
   "mimetype": "text/x-python",
   "name": "python",
   "nbconvert_exporter": "python",
   "pygments_lexer": "ipython3",
   "version": "3.8.3"
  }
 },
 "nbformat": 4,
 "nbformat_minor": 4
}
