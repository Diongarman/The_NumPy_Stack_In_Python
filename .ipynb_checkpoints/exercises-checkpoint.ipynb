{
 "cells": [
  {
   "cell_type": "code",
   "execution_count": 211,
   "metadata": {},
   "outputs": [],
   "source": [
    "import numpy as np\n",
    "from datetime import datetime"
   ]
  },
  {
   "cell_type": "code",
   "execution_count": 212,
   "metadata": {},
   "outputs": [],
   "source": [
    "#STEPS\n",
    "\n",
    "#transpose B\n",
    "#get a list of dot products between rows of A and rows of B.T\n",
    "    #iterate rows of A\n",
    "        #iterate rows of B.T (same as iterating cols of B)\n",
    "        #calculate dot(row_A, row_B) and append to list\n",
    "#reformat flat dot product list into correct dimensions for matrix multiplication"
   ]
  },
  {
   "cell_type": "code",
   "execution_count": 213,
   "metadata": {},
   "outputs": [],
   "source": [
    "#Helper functions\n",
    "def dot(row, col):\n",
    "    dot = 0\n",
    "\n",
    "    for i in range(len(row)):\n",
    "        dot += row[i] * col[i]\n",
    "    \n",
    "    return dot\n",
    "\n",
    "def transp(M):\n",
    "    #create a row for every column in original \n",
    "    M_T = [[] for i in range(len(M[0]))]\n",
    "    \n",
    "    #for each row index\n",
    "        #for each column index\n",
    "    for i in range(len(M)):\n",
    "        for j in range(len(M[i])):\n",
    "            M_T[j].append(M[i][j])\n",
    "            \n",
    "    return M_T\n",
    "    "
   ]
  },
  {
   "cell_type": "code",
   "execution_count": 218,
   "metadata": {},
   "outputs": [],
   "source": [
    "#main function\n",
    "def mat_mul(A, B):\n",
    "    A_is_nested = any(isinstance(i, list) for i in A)\n",
    "    B_is_nested = any(isinstance(i, list) for i in B)\n",
    "    \n",
    "    if (A_is_nested or B_is_nested):\n",
    "        #print('MATRIX Multiplication')\n",
    "        \n",
    "        #transpose B\n",
    "        B_T = transp(B)\n",
    "        \n",
    "        #make a list of dot products\n",
    "        dot_prod_flat_list = []\n",
    "        for row in A:\n",
    "            for row_bt in B_T:\n",
    "                dot_prod_flat_list.append(dot(row, row_bt))\n",
    "        \n",
    "        #turn flat dot product list into a matrix of appropriate dimension\n",
    "        col_count_B = len(B_T)\n",
    "        #num of cols in B (i.e. num of rows in B.T) will be same as num of cols in C\n",
    "        C = [dot_prod_flat_list[i:i+col_count_B] for i in range(0, len(dot_prod_flat_list), col_count_B)]\n",
    "        return np.array(C)\n",
    "    \n",
    "    #print('Vector dot prod')\n",
    "    return dot(A,B)\n",
    "    "
   ]
  },
  {
   "cell_type": "code",
   "execution_count": 215,
   "metadata": {},
   "outputs": [],
   "source": [
    "def timing_tests(row_num, col_num,T):\n",
    "    a = np.random.randint(1,100, size=(row_num, col_num)).tolist()\n",
    "    b = np.random.randint(1,100, size=(col_num, row_num)).tolist()\n",
    "\n",
    "    A = np.random.randint(1,100, size=(row_num, col_num))\n",
    "    B = np.random.randint(1,100, size=(col_num, row_num))\n",
    "    \n",
    "    t0 = datetime.now()\n",
    "    for t in range(T):\n",
    "        mat_mul(a,b)\n",
    "    dt1 = datetime.now() - t0\n",
    "\n",
    "    t0 = datetime.now()\n",
    "    for t in range(T):\n",
    "        A.dot(B)\n",
    "    dt2 = datetime.now() - t0\n",
    "    \n",
    "    return 'for a {r}x{c} matrix dt1/dt2: {ratio}'.format(r=row_num, c=col_num, \n",
    "                                                          ratio=dt1.total_seconds()/dt2.total_seconds()) \n",
    "    "
   ]
  },
  {
   "cell_type": "code",
   "execution_count": 219,
   "metadata": {},
   "outputs": [
    {
     "ename": "TypeError",
     "evalue": "object of type 'int' has no len()",
     "output_type": "error",
     "traceback": [
      "\u001b[0;31m---------------------------------------------------------------------------\u001b[0m",
      "\u001b[0;31mTypeError\u001b[0m                                 Traceback (most recent call last)",
      "\u001b[0;32m<ipython-input-219-8ac1ef041d12>\u001b[0m in \u001b[0;36m<module>\u001b[0;34m\u001b[0m\n\u001b[1;32m      2\u001b[0m \u001b[0mB\u001b[0m \u001b[0;34m=\u001b[0m \u001b[0;34m[\u001b[0m\u001b[0;34m[\u001b[0m\u001b[0;36m1\u001b[0m\u001b[0;34m,\u001b[0m\u001b[0;36m2\u001b[0m\u001b[0;34m]\u001b[0m\u001b[0;34m,\u001b[0m\u001b[0;34m[\u001b[0m\u001b[0;36m3\u001b[0m\u001b[0;34m,\u001b[0m\u001b[0;36m4\u001b[0m\u001b[0;34m]\u001b[0m\u001b[0;34m,\u001b[0m\u001b[0;34m[\u001b[0m\u001b[0;36m5\u001b[0m\u001b[0;34m,\u001b[0m\u001b[0;36m6\u001b[0m\u001b[0;34m]\u001b[0m\u001b[0;34m]\u001b[0m\u001b[0;34m\u001b[0m\u001b[0;34m\u001b[0m\u001b[0m\n\u001b[1;32m      3\u001b[0m \u001b[0;34m\u001b[0m\u001b[0m\n\u001b[0;32m----> 4\u001b[0;31m \u001b[0mmat_mul\u001b[0m\u001b[0;34m(\u001b[0m\u001b[0mA\u001b[0m\u001b[0;34m,\u001b[0m\u001b[0mB\u001b[0m\u001b[0;34m)\u001b[0m\u001b[0;34m\u001b[0m\u001b[0;34m\u001b[0m\u001b[0m\n\u001b[0m",
      "\u001b[0;32m<ipython-input-218-b140b944a04c>\u001b[0m in \u001b[0;36mmat_mul\u001b[0;34m(A, B)\u001b[0m\n\u001b[1;32m     14\u001b[0m         \u001b[0;32mfor\u001b[0m \u001b[0mrow\u001b[0m \u001b[0;32min\u001b[0m \u001b[0mA\u001b[0m\u001b[0;34m:\u001b[0m\u001b[0;34m\u001b[0m\u001b[0;34m\u001b[0m\u001b[0m\n\u001b[1;32m     15\u001b[0m             \u001b[0;32mfor\u001b[0m \u001b[0mrow_bt\u001b[0m \u001b[0;32min\u001b[0m \u001b[0mB_T\u001b[0m\u001b[0;34m:\u001b[0m\u001b[0;34m\u001b[0m\u001b[0;34m\u001b[0m\u001b[0m\n\u001b[0;32m---> 16\u001b[0;31m                 \u001b[0mdot_prod_flat_list\u001b[0m\u001b[0;34m.\u001b[0m\u001b[0mappend\u001b[0m\u001b[0;34m(\u001b[0m\u001b[0mdot\u001b[0m\u001b[0;34m(\u001b[0m\u001b[0mrow\u001b[0m\u001b[0;34m,\u001b[0m \u001b[0mrow_bt\u001b[0m\u001b[0;34m)\u001b[0m\u001b[0;34m)\u001b[0m\u001b[0;34m\u001b[0m\u001b[0;34m\u001b[0m\u001b[0m\n\u001b[0m\u001b[1;32m     17\u001b[0m \u001b[0;34m\u001b[0m\u001b[0m\n\u001b[1;32m     18\u001b[0m         \u001b[0;31m#turn flat dot product list into a matrix of appropriate dimension\u001b[0m\u001b[0;34m\u001b[0m\u001b[0;34m\u001b[0m\u001b[0;34m\u001b[0m\u001b[0m\n",
      "\u001b[0;32m<ipython-input-213-c6fee75a5583>\u001b[0m in \u001b[0;36mdot\u001b[0;34m(row, col)\u001b[0m\n\u001b[1;32m      2\u001b[0m     \u001b[0mdot\u001b[0m \u001b[0;34m=\u001b[0m \u001b[0;36m0\u001b[0m\u001b[0;34m\u001b[0m\u001b[0;34m\u001b[0m\u001b[0m\n\u001b[1;32m      3\u001b[0m \u001b[0;34m\u001b[0m\u001b[0m\n\u001b[0;32m----> 4\u001b[0;31m     \u001b[0;32mfor\u001b[0m \u001b[0mi\u001b[0m \u001b[0;32min\u001b[0m \u001b[0mrange\u001b[0m\u001b[0;34m(\u001b[0m\u001b[0mlen\u001b[0m\u001b[0;34m(\u001b[0m\u001b[0mrow\u001b[0m\u001b[0;34m)\u001b[0m\u001b[0;34m)\u001b[0m\u001b[0;34m:\u001b[0m\u001b[0;34m\u001b[0m\u001b[0;34m\u001b[0m\u001b[0m\n\u001b[0m\u001b[1;32m      5\u001b[0m         \u001b[0mdot\u001b[0m \u001b[0;34m+=\u001b[0m \u001b[0mrow\u001b[0m\u001b[0;34m[\u001b[0m\u001b[0mi\u001b[0m\u001b[0;34m]\u001b[0m \u001b[0;34m*\u001b[0m \u001b[0mcol\u001b[0m\u001b[0;34m[\u001b[0m\u001b[0mi\u001b[0m\u001b[0;34m]\u001b[0m\u001b[0;34m\u001b[0m\u001b[0;34m\u001b[0m\u001b[0m\n\u001b[1;32m      6\u001b[0m \u001b[0;34m\u001b[0m\u001b[0m\n",
      "\u001b[0;31mTypeError\u001b[0m: object of type 'int' has no len()"
     ]
    }
   ],
   "source": [
    "A = [[1,2,3]]\n",
    "B = [[1,2],[3,4],[5,6]]\n",
    "\n",
    "mat_mul(A,B)"
   ]
  },
  {
   "cell_type": "code",
   "execution_count": 216,
   "metadata": {},
   "outputs": [
    {
     "name": "stdout",
     "output_type": "stream",
     "text": [
      "for a 1x1 matrix dt1/dt2: 1.961647727272727\tfor a 1x1 matrix dt1/dt2: 6.0638297872340425\n",
      "for a 1x2 matrix dt1/dt2: 3.834945196647324\tfor a 2x1 matrix dt1/dt2: 9.546511627906977\n",
      "for a 1x3 matrix dt1/dt2: 6.54523227383863\tfor a 3x1 matrix dt1/dt2: 12.592692828146143\n",
      "for a 1x4 matrix dt1/dt2: 2.9228751311647434\tfor a 4x1 matrix dt1/dt2: 17.8125\n",
      "for a 1x5 matrix dt1/dt2: 3.6233576642335765\tfor a 5x1 matrix dt1/dt2: 21.714490674318505\n",
      "for a 1x6 matrix dt1/dt2: 5.036553524804177\tfor a 6x1 matrix dt1/dt2: 27.211096075778077\n",
      "for a 1x7 matrix dt1/dt2: 5.01725625539258\tfor a 7x1 matrix dt1/dt2: 33.53585397653194\n",
      "for a 1x8 matrix dt1/dt2: 4.655513307984791\tfor a 8x1 matrix dt1/dt2: 35.14507198228128\n",
      "for a 1x9 matrix dt1/dt2: 7.669789227166277\tfor a 9x1 matrix dt1/dt2: 30.596543951915855\n",
      "for a 1x10 matrix dt1/dt2: 5.7963206307490145\tfor a 10x1 matrix dt1/dt2: 51.00303336703741\n",
      "for a 2x1 matrix dt1/dt2: 5.090466926070039\tfor a 1x2 matrix dt1/dt2: 6.380398671096345\n",
      "for a 2x2 matrix dt1/dt2: 6.503825136612021\tfor a 2x2 matrix dt1/dt2: 10.120274914089347\n",
      "for a 2x3 matrix dt1/dt2: 6.123626373626373\tfor a 3x2 matrix dt1/dt2: 8.086355785837652\n",
      "for a 2x4 matrix dt1/dt2: 11.679830747531735\tfor a 4x2 matrix dt1/dt2: 21.70750382848392\n",
      "for a 2x5 matrix dt1/dt2: 10.797235023041475\tfor a 5x2 matrix dt1/dt2: 20.45120671563484\n",
      "for a 2x6 matrix dt1/dt2: 12.203750000000001\tfor a 6x2 matrix dt1/dt2: 35.902872777017784\n",
      "for a 2x7 matrix dt1/dt2: 7.232588699080158\tfor a 7x2 matrix dt1/dt2: 42.30385487528345\n",
      "for a 2x8 matrix dt1/dt2: 12.46030042918455\tfor a 8x2 matrix dt1/dt2: 39.72401103955842\n",
      "for a 2x9 matrix dt1/dt2: 19.620414673046255\tfor a 9x2 matrix dt1/dt2: 45.069906223358906\n",
      "for a 2x10 matrix dt1/dt2: 18.897928994082843\tfor a 10x2 matrix dt1/dt2: 56.35424028268552\n",
      "for a 3x1 matrix dt1/dt2: 7.331114808652247\tfor a 1x3 matrix dt1/dt2: 9.324137931034482\n",
      "for a 3x2 matrix dt1/dt2: 14.955223880597014\tfor a 2x3 matrix dt1/dt2: 12.724540901502504\n",
      "for a 3x3 matrix dt1/dt2: 13.951650943396226\tfor a 3x3 matrix dt1/dt2: 13.404678362573101\n",
      "for a 3x4 matrix dt1/dt2: 20.076682316118934\tfor a 4x3 matrix dt1/dt2: 23.55587808417997\n",
      "for a 3x5 matrix dt1/dt2: 22.933753943217667\tfor a 5x3 matrix dt1/dt2: 30.401869158878505\n",
      "for a 3x6 matrix dt1/dt2: 24.853582554517136\tfor a 6x3 matrix dt1/dt2: 26.927046263345197\n",
      "for a 3x7 matrix dt1/dt2: 19.45533769063181\tfor a 7x3 matrix dt1/dt2: 36.231683168316835\n",
      "for a 3x8 matrix dt1/dt2: 28.42331288343558\tfor a 8x3 matrix dt1/dt2: 50.90547798066595\n",
      "for a 3x9 matrix dt1/dt2: 17.79811320754717\tfor a 9x3 matrix dt1/dt2: 40.01899592944369\n",
      "for a 3x10 matrix dt1/dt2: 22.317002881844378\tfor a 10x3 matrix dt1/dt2: 49.871501272264624\n",
      "for a 4x1 matrix dt1/dt2: 15.423216444981863\tfor a 1x4 matrix dt1/dt2: 8.405063291139241\n",
      "for a 4x2 matrix dt1/dt2: 19.7973174366617\tfor a 2x4 matrix dt1/dt2: 14.679549114331724\n",
      "for a 4x3 matrix dt1/dt2: 22.870588235294115\tfor a 3x4 matrix dt1/dt2: 17.98753894080997\n",
      "for a 4x4 matrix dt1/dt2: 25.111436950146626\tfor a 4x4 matrix dt1/dt2: 24.824483775811206\n",
      "for a 4x5 matrix dt1/dt2: 27.7027417027417\tfor a 5x4 matrix dt1/dt2: 31.55686274509804\n",
      "for a 4x6 matrix dt1/dt2: 31.772727272727273\tfor a 6x4 matrix dt1/dt2: 25.623993558776167\n",
      "for a 4x7 matrix dt1/dt2: 25.07616221562809\tfor a 7x4 matrix dt1/dt2: 49.10952380952381\n",
      "for a 4x8 matrix dt1/dt2: 35.866279069767444\tfor a 8x4 matrix dt1/dt2: 58.34653465346535\n",
      "for a 4x9 matrix dt1/dt2: 40.750362844702465\tfor a 9x4 matrix dt1/dt2: 56.27917026793432\n",
      "for a 4x10 matrix dt1/dt2: 43.89232839838493\tfor a 10x4 matrix dt1/dt2: 71.60091743119266\n",
      "for a 5x1 matrix dt1/dt2: 23.856521739130436\tfor a 1x5 matrix dt1/dt2: 8.728873239436618\n",
      "for a 5x2 matrix dt1/dt2: 23.186851211072664\tfor a 2x5 matrix dt1/dt2: 13.719599427753934\n",
      "for a 5x3 matrix dt1/dt2: 29.978873239436616\tfor a 3x5 matrix dt1/dt2: 21.38087520259319\n",
      "for a 5x4 matrix dt1/dt2: 17.182602444284687\tfor a 4x5 matrix dt1/dt2: 32.50223546944858\n",
      "for a 5x5 matrix dt1/dt2: 37.493741307371344\tfor a 5x5 matrix dt1/dt2: 36.416783216783216\n",
      "for a 5x6 matrix dt1/dt2: 40.23401360544218\tfor a 6x5 matrix dt1/dt2: 42.671462829736214\n",
      "for a 5x7 matrix dt1/dt2: 43.153020134228186\tfor a 7x5 matrix dt1/dt2: 54.177548682703325\n",
      "for a 5x8 matrix dt1/dt2: 24.20350404312668\tfor a 8x5 matrix dt1/dt2: 70.61624026696329\n",
      "for a 5x9 matrix dt1/dt2: 52.926121372031666\tfor a 9x5 matrix dt1/dt2: 74.25760456273764\n",
      "for a 5x10 matrix dt1/dt2: 56.952196382428944\tfor a 10x5 matrix dt1/dt2: 77.40516545601291\n",
      "for a 6x1 matrix dt1/dt2: 27.72519954389966\tfor a 1x6 matrix dt1/dt2: 10.53923205342237\n",
      "for a 6x2 matrix dt1/dt2: 33.10143042912873\tfor a 2x6 matrix dt1/dt2: 15.372937293729374\n",
      "for a 6x3 matrix dt1/dt2: 32.30379746835443\tfor a 3x6 matrix dt1/dt2: 22.006299212598424\n",
      "for a 6x4 matrix dt1/dt2: 44.20094562647754\tfor a 4x6 matrix dt1/dt2: 30.043478260869563\n",
      "for a 6x5 matrix dt1/dt2: 41.7116060961313\tfor a 5x6 matrix dt1/dt2: 31.239828693790148\n",
      "for a 6x6 matrix dt1/dt2: 48.620380739081746\tfor a 6x6 matrix dt1/dt2: 48.17270531400966\n",
      "for a 6x7 matrix dt1/dt2: 57.45029239766082\tfor a 7x6 matrix dt1/dt2: 58.188741721854306\n",
      "for a 6x8 matrix dt1/dt2: 50.65196998123827\tfor a 8x6 matrix dt1/dt2: 72.61767838125665\n",
      "for a 6x9 matrix dt1/dt2: 68.4626334519573\tfor a 9x6 matrix dt1/dt2: 76.77100646352723\n",
      "for a 6x10 matrix dt1/dt2: 70.43757431629014\tfor a 10x6 matrix dt1/dt2: 96.44235924932975\n",
      "for a 7x1 matrix dt1/dt2: 23.61818181818182\tfor a 1x7 matrix dt1/dt2: 9.860033726812816\n",
      "for a 7x2 matrix dt1/dt2: 37.59443800695249\tfor a 2x7 matrix dt1/dt2: 15.586601307189543\n",
      "for a 7x3 matrix dt1/dt2: 43.4063981042654\tfor a 3x7 matrix dt1/dt2: 24.37479806138934\n",
      "for a 7x4 matrix dt1/dt2: 48.368176538908244\tfor a 4x7 matrix dt1/dt2: 32.746206896551726\n",
      "for a 7x5 matrix dt1/dt2: 43.599639314697924\tfor a 5x7 matrix dt1/dt2: 47.15466666666667\n",
      "for a 7x6 matrix dt1/dt2: 66.31386025200459\tfor a 6x7 matrix dt1/dt2: 57.00607533414338\n",
      "for a 7x7 matrix dt1/dt2: 67.55381165919282\tfor a 7x7 matrix dt1/dt2: 46.4984520123839\n",
      "for a 7x8 matrix dt1/dt2: 77.46103183315039\tfor a 8x7 matrix dt1/dt2: 71.21619047619048\n",
      "for a 7x9 matrix dt1/dt2: 71.08607863974494\tfor a 9x7 matrix dt1/dt2: 79.08754208754209\n",
      "for a 7x10 matrix dt1/dt2: 75.6321243523316\tfor a 10x7 matrix dt1/dt2: 79.69064748201438\n",
      "for a 8x1 matrix dt1/dt2: 32.25774058577405\tfor a 1x8 matrix dt1/dt2: 10.65592972181552\n",
      "for a 8x2 matrix dt1/dt2: 50.42111368909513\tfor a 2x8 matrix dt1/dt2: 16.756260434056763\n",
      "for a 8x3 matrix dt1/dt2: 48.932827735644636\tfor a 3x8 matrix dt1/dt2: 25.133738601823712\n",
      "for a 8x4 matrix dt1/dt2: 57.198907103825135\tfor a 4x8 matrix dt1/dt2: 35.247206703910614\n",
      "for a 8x5 matrix dt1/dt2: 71.95444915254238\tfor a 5x8 matrix dt1/dt2: 47.52496626180836\n",
      "for a 8x6 matrix dt1/dt2: 75.56587473002159\tfor a 6x8 matrix dt1/dt2: 57.16407185628742\n",
      "for a 8x7 matrix dt1/dt2: 69.6829745596869\tfor a 7x8 matrix dt1/dt2: 57.52214022140222\n",
      "for a 8x8 matrix dt1/dt2: 79.9775828460039\tfor a 8x8 matrix dt1/dt2: 78.53644314868805\n",
      "for a 8x9 matrix dt1/dt2: 69.16771653543307\tfor a 9x8 matrix dt1/dt2: 88.95383275261325\n",
      "for a 8x10 matrix dt1/dt2: 74.23458767013611\tfor a 10x8 matrix dt1/dt2: 65.06467391304348\n",
      "for a 9x1 matrix dt1/dt2: 50.08680947012402\tfor a 1x9 matrix dt1/dt2: 8.656292286874155\n",
      "for a 9x2 matrix dt1/dt2: 50.880851063829795\tfor a 2x9 matrix dt1/dt2: 18.45634266886326\n",
      "for a 9x3 matrix dt1/dt2: 53.37211538461539\tfor a 3x9 matrix dt1/dt2: 20.300337457817772\n",
      "for a 9x4 matrix dt1/dt2: 64.33203125\tfor a 4x9 matrix dt1/dt2: 35.83312883435583\n",
      "for a 9x5 matrix dt1/dt2: 62.60910652920961\tfor a 5x9 matrix dt1/dt2: 48.545787545787555\n",
      "for a 9x6 matrix dt1/dt2: 74.2262443438914\tfor a 6x9 matrix dt1/dt2: 47.30174793008279\n",
      "for a 9x7 matrix dt1/dt2: 82.84168157423971\tfor a 7x9 matrix dt1/dt2: 70.38397502601457\n",
      "for a 9x8 matrix dt1/dt2: 70.88856729377713\tfor a 8x9 matrix dt1/dt2: 82.85700757575758\n",
      "for a 9x9 matrix dt1/dt2: 89.17933390264731\tfor a 9x9 matrix dt1/dt2: 65.28174123337364\n",
      "for a 9x10 matrix dt1/dt2: 97.74046434494196\tfor a 10x9 matrix dt1/dt2: 83.09640831758033\n",
      "for a 10x1 matrix dt1/dt2: 52.489614243323444\tfor a 1x10 matrix dt1/dt2: 11.488782051282051\n",
      "for a 10x2 matrix dt1/dt2: 53.5563703024748\tfor a 2x10 matrix dt1/dt2: 17.434343434343436\n",
      "for a 10x3 matrix dt1/dt2: 45.61491813220133\tfor a 3x10 matrix dt1/dt2: 30.45348837209302\n",
      "for a 10x4 matrix dt1/dt2: 70.93960923623446\tfor a 4x10 matrix dt1/dt2: 39.23560209424083\n"
     ]
    },
    {
     "name": "stdout",
     "output_type": "stream",
     "text": [
      "for a 10x5 matrix dt1/dt2: 82.42817679558011\tfor a 5x10 matrix dt1/dt2: 42.55357142857142\n",
      "for a 10x6 matrix dt1/dt2: 83.03556992724333\tfor a 6x10 matrix dt1/dt2: 64.81285231116122\n",
      "for a 10x7 matrix dt1/dt2: 88.80518460329928\tfor a 7x10 matrix dt1/dt2: 72.96656534954407\n",
      "for a 10x8 matrix dt1/dt2: 93.09037472446731\tfor a 8x10 matrix dt1/dt2: 72.86946386946387\n",
      "for a 10x9 matrix dt1/dt2: 98.16393442622949\tfor a 9x10 matrix dt1/dt2: 77.77376171352074\n",
      "for a 10x10 matrix dt1/dt2: 95.06564986737399\tfor a 10x10 matrix dt1/dt2: 103.5608695652174\n"
     ]
    }
   ],
   "source": [
    "for i in range(1,11):\n",
    "    for j in range(1,11):\n",
    "        print(timing_tests(i,j,1000) + '\\t' + timing_tests(j,i,1000))"
   ]
  },
  {
   "cell_type": "code",
   "execution_count": 217,
   "metadata": {},
   "outputs": [
    {
     "name": "stdout",
     "output_type": "stream",
     "text": [
      "for a 1x1 matrix dt1/dt2: 1.4638602065131057\n",
      "for a 2x2 matrix dt1/dt2: 7.642424242424243\n",
      "for a 3x3 matrix dt1/dt2: 17.47450980392157\n",
      "for a 4x4 matrix dt1/dt2: 24.08274231678487\n",
      "for a 5x5 matrix dt1/dt2: 37.12743823146944\n",
      "for a 6x6 matrix dt1/dt2: 47.07971864009379\n",
      "for a 7x7 matrix dt1/dt2: 62.19804134929271\n",
      "for a 8x8 matrix dt1/dt2: 83.31085043988269\n",
      "for a 9x9 matrix dt1/dt2: 95.44092465753425\n",
      "for a 10x10 matrix dt1/dt2: 82.36069114470843\n",
      "for a 11x11 matrix dt1/dt2: 120.57760814249363\n",
      "for a 12x12 matrix dt1/dt2: 127.29945355191256\n",
      "for a 13x13 matrix dt1/dt2: 134.27045769764217\n",
      "for a 14x14 matrix dt1/dt2: 129.263353115727\n",
      "for a 15x15 matrix dt1/dt2: 134.2747288859678\n",
      "for a 16x16 matrix dt1/dt2: 139.21685043822447\n",
      "for a 17x17 matrix dt1/dt2: 156.5658419792498\n",
      "for a 18x18 matrix dt1/dt2: 160.0041532071989\n",
      "for a 19x19 matrix dt1/dt2: 151.99582701062215\n",
      "for a 20x20 matrix dt1/dt2: 165.8591395897622\n"
     ]
    }
   ],
   "source": [
    "#square matrices\n",
    "for i in range(1,21):\n",
    "    print(timing_tests(i,i,1000))"
   ]
  },
  {
   "cell_type": "code",
   "execution_count": null,
   "metadata": {},
   "outputs": [],
   "source": [
    "\"\"\"\n",
    "Resources\n",
    "\n",
    "turning flat list into nested adapted from: https://stackoverflow.com/questions/24180879/python-check-if-a-list-is-nested-or-not\n",
    "\n",
    "\"\"\""
   ]
  }
 ],
 "metadata": {
  "kernelspec": {
   "display_name": "Python 3",
   "language": "python",
   "name": "python3"
  },
  "language_info": {
   "codemirror_mode": {
    "name": "ipython",
    "version": 3
   },
   "file_extension": ".py",
   "mimetype": "text/x-python",
   "name": "python",
   "nbconvert_exporter": "python",
   "pygments_lexer": "ipython3",
   "version": "3.8.3"
  }
 },
 "nbformat": 4,
 "nbformat_minor": 4
}
