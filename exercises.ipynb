{
 "cells": [
  {
   "cell_type": "code",
   "execution_count": 158,
   "metadata": {},
   "outputs": [],
   "source": [
    "import numpy as np"
   ]
  },
  {
   "cell_type": "code",
   "execution_count": 159,
   "metadata": {},
   "outputs": [],
   "source": [
    "a = [1,2]\n",
    "b = [3,4]"
   ]
  },
  {
   "cell_type": "code",
   "execution_count": 160,
   "metadata": {},
   "outputs": [],
   "source": [
    "def dot(row, col):\n",
    "    dot = 0\n",
    "\n",
    "    for i in range(len(row)):\n",
    "        dot += row[i] * col[i]\n",
    "    \n",
    "    return dot\n",
    "\n",
    "def transp(M):\n",
    "    #create a row for every column in original \n",
    "    M_T = [[] for i in range(len(M[0]))]\n",
    "    \n",
    "    #for each row index\n",
    "        #for each column index\n",
    "    for i in range(len(M)):\n",
    "        for j in range(len(M[i])):\n",
    "            M_T[j].append(M[i][j])\n",
    "            \n",
    "    return M_T\n",
    "    "
   ]
  },
  {
   "cell_type": "code",
   "execution_count": 161,
   "metadata": {},
   "outputs": [],
   "source": [
    "def mat_mul(A, B):\n",
    "    A_is_nested = any(isinstance(i, list) for i in A)\n",
    "    B_is_nested = any(isinstance(i, list) for i in B)\n",
    "    \n",
    "    if (A_is_nested and B_is_nested):\n",
    "        print('MATRIX Multiplication')\n",
    "        \n",
    "        #transpose B\n",
    "        B_T = transp(B)\n",
    "        \n",
    "        #make a list of dot products\n",
    "        dot_prod_flat_list = []\n",
    "        for row in A:\n",
    "            for row_bt in B_T:\n",
    "                dot_prod_flat_list.append(dot(row, row_bt))\n",
    "        \n",
    "        #turn flat dot product list into a matrix of appropriate dimension\n",
    "        \n",
    "        col_count_B = len(B_T)\n",
    "        #num of cols in B (i.e. num of rows in B.T) will be same as num of cols in C\n",
    "        C = [dot_prod_flat_list[i:i+col_count_B] for i in range(0, len(dot_prod_flat_list), col_count_B)]\n",
    "        return np.array(C)\n",
    "    \n",
    "    print('Vector dot prod')\n",
    "    return dot(A,B)\n",
    "    "
   ]
  },
  {
   "cell_type": "code",
   "execution_count": 162,
   "metadata": {},
   "outputs": [
    {
     "data": {
      "text/plain": [
       "[[1, 2], [3, 4]]"
      ]
     },
     "execution_count": 162,
     "metadata": {},
     "output_type": "execute_result"
    }
   ],
   "source": [
    "A = [[1,2], [3,4]]\n",
    "A"
   ]
  },
  {
   "cell_type": "code",
   "execution_count": 163,
   "metadata": {},
   "outputs": [
    {
     "data": {
      "text/plain": [
       "[[1, 2, 3, 4], [5, 6, 7, 8]]"
      ]
     },
     "execution_count": 163,
     "metadata": {},
     "output_type": "execute_result"
    }
   ],
   "source": [
    "B = [[1,2,3,4], [5,6,7,8]]\n",
    "B"
   ]
  },
  {
   "cell_type": "code",
   "execution_count": 164,
   "metadata": {},
   "outputs": [
    {
     "data": {
      "text/plain": [
       "[[1, 5], [2, 6], [3, 7], [4, 8]]"
      ]
     },
     "execution_count": 164,
     "metadata": {},
     "output_type": "execute_result"
    }
   ],
   "source": [
    "transp(B)"
   ]
  },
  {
   "cell_type": "code",
   "execution_count": 165,
   "metadata": {},
   "outputs": [],
   "source": [
    "#STEPS\n",
    "\n",
    "#transpose B\n",
    "#iterate rows of A\n",
    "    #iterate rows of B.T (same as iterating cols of B)\n",
    "#calculate dot(row, col)\n",
    "#create an appropriately sized result matrix C\n",
    "#append dot product to correct entry of C\n",
    "\n",
    "\n",
    "\n",
    "#TODO \n",
    "#do timing experiments\n",
    "#time for various sizes - use random data generating functions to make it dynamic\n",
    "#write unit tests"
   ]
  },
  {
   "cell_type": "code",
   "execution_count": 166,
   "metadata": {},
   "outputs": [
    {
     "name": "stdout",
     "output_type": "stream",
     "text": [
      "MATRIX Multiplication\n"
     ]
    },
    {
     "data": {
      "text/plain": [
       "array([[11, 14, 17, 20],\n",
       "       [23, 30, 37, 44]])"
      ]
     },
     "execution_count": 166,
     "metadata": {},
     "output_type": "execute_result"
    }
   ],
   "source": [
    "mat_mul(A,B)"
   ]
  },
  {
   "cell_type": "code",
   "execution_count": null,
   "metadata": {},
   "outputs": [],
   "source": [
    "\"\"\"\n",
    "Resources\n",
    "\n",
    "turning flat list into nested adapted from: https://stackoverflow.com/questions/24180879/python-check-if-a-list-is-nested-or-not\n",
    "\n",
    "\"\"\""
   ]
  }
 ],
 "metadata": {
  "kernelspec": {
   "display_name": "Python 3",
   "language": "python",
   "name": "python3"
  },
  "language_info": {
   "codemirror_mode": {
    "name": "ipython",
    "version": 3
   },
   "file_extension": ".py",
   "mimetype": "text/x-python",
   "name": "python",
   "nbconvert_exporter": "python",
   "pygments_lexer": "ipython3",
   "version": "3.8.3"
  }
 },
 "nbformat": 4,
 "nbformat_minor": 4
}
