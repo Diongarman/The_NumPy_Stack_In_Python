{
 "cells": [
  {
   "cell_type": "code",
   "execution_count": 178,
   "metadata": {},
   "outputs": [],
   "source": [
    "import numpy as np\n",
    "from datetime import datetime"
   ]
  },
  {
   "cell_type": "code",
   "execution_count": 159,
   "metadata": {},
   "outputs": [],
   "source": [
    "a = [1,2]\n",
    "b = [3,4]"
   ]
  },
  {
   "cell_type": "code",
   "execution_count": 160,
   "metadata": {},
   "outputs": [],
   "source": [
    "def dot(row, col):\n",
    "    dot = 0\n",
    "\n",
    "    for i in range(len(row)):\n",
    "        dot += row[i] * col[i]\n",
    "    \n",
    "    return dot\n",
    "\n",
    "def transp(M):\n",
    "    #create a row for every column in original \n",
    "    M_T = [[] for i in range(len(M[0]))]\n",
    "    \n",
    "    #for each row index\n",
    "        #for each column index\n",
    "    for i in range(len(M)):\n",
    "        for j in range(len(M[i])):\n",
    "            M_T[j].append(M[i][j])\n",
    "            \n",
    "    return M_T\n",
    "    "
   ]
  },
  {
   "cell_type": "code",
   "execution_count": 181,
   "metadata": {},
   "outputs": [],
   "source": [
    "def mat_mul(A, B):\n",
    "    A_is_nested = any(isinstance(i, list) for i in A)\n",
    "    B_is_nested = any(isinstance(i, list) for i in B)\n",
    "    \n",
    "    if (A_is_nested and B_is_nested):\n",
    "        #print('MATRIX Multiplication')\n",
    "        \n",
    "        #transpose B\n",
    "        B_T = transp(B)\n",
    "        \n",
    "        #make a list of dot products\n",
    "        dot_prod_flat_list = []\n",
    "        for row in A:\n",
    "            for row_bt in B_T:\n",
    "                dot_prod_flat_list.append(dot(row, row_bt))\n",
    "        \n",
    "        #turn flat dot product list into a matrix of appropriate dimension\n",
    "        col_count_B = len(B_T)\n",
    "        #num of cols in B (i.e. num of rows in B.T) will be same as num of cols in C\n",
    "        C = [dot_prod_flat_list[i:i+col_count_B] for i in range(0, len(dot_prod_flat_list), col_count_B)]\n",
    "        return np.array(C)\n",
    "    \n",
    "    #print('Vector dot prod')\n",
    "    return dot(A,B)\n",
    "    "
   ]
  },
  {
   "cell_type": "code",
   "execution_count": 162,
   "metadata": {},
   "outputs": [
    {
     "data": {
      "text/plain": [
       "[[1, 2], [3, 4]]"
      ]
     },
     "execution_count": 162,
     "metadata": {},
     "output_type": "execute_result"
    }
   ],
   "source": [
    "A = [[1,2], [3,4]]\n",
    "A"
   ]
  },
  {
   "cell_type": "code",
   "execution_count": 163,
   "metadata": {},
   "outputs": [
    {
     "data": {
      "text/plain": [
       "[[1, 2, 3, 4], [5, 6, 7, 8]]"
      ]
     },
     "execution_count": 163,
     "metadata": {},
     "output_type": "execute_result"
    }
   ],
   "source": [
    "B = [[1,2,3,4], [5,6,7,8]]\n",
    "B"
   ]
  },
  {
   "cell_type": "code",
   "execution_count": 164,
   "metadata": {},
   "outputs": [
    {
     "data": {
      "text/plain": [
       "[[1, 5], [2, 6], [3, 7], [4, 8]]"
      ]
     },
     "execution_count": 164,
     "metadata": {},
     "output_type": "execute_result"
    }
   ],
   "source": [
    "transp(B)"
   ]
  },
  {
   "cell_type": "code",
   "execution_count": 165,
   "metadata": {},
   "outputs": [],
   "source": [
    "#STEPS\n",
    "\n",
    "#transpose B\n",
    "#iterate rows of A\n",
    "    #iterate rows of B.T (same as iterating cols of B)\n",
    "#calculate dot(row, col)\n",
    "#create an appropriately sized result matrix C\n",
    "#append dot product to correct entry of C\n",
    "\n"
   ]
  },
  {
   "cell_type": "code",
   "execution_count": 166,
   "metadata": {},
   "outputs": [
    {
     "name": "stdout",
     "output_type": "stream",
     "text": [
      "MATRIX Multiplication\n"
     ]
    },
    {
     "data": {
      "text/plain": [
       "array([[11, 14, 17, 20],\n",
       "       [23, 30, 37, 44]])"
      ]
     },
     "execution_count": 166,
     "metadata": {},
     "output_type": "execute_result"
    }
   ],
   "source": [
    "mat_mul(A,B)"
   ]
  },
  {
   "cell_type": "code",
   "execution_count": 182,
   "metadata": {},
   "outputs": [],
   "source": [
    "a = np.random.randint(1,100, size=(3,3)).tolist()\n",
    "b = np.random.randint(1,100, size=(3,3)).tolist()\n",
    "\n",
    "A = np.random.randint(1,100, size=(3,3))\n",
    "B = np.random.randint(1,100, size=(3,3))\n",
    "\n",
    "T = 1000"
   ]
  },
  {
   "cell_type": "code",
   "execution_count": 186,
   "metadata": {},
   "outputs": [
    {
     "name": "stdout",
     "output_type": "stream",
     "text": [
      "for a 3x3 matrix dt1/dt2: 9.47653429602888\n"
     ]
    }
   ],
   "source": [
    "t0 = datetime.now()\n",
    "for t in range(T):\n",
    "    mat_mul(a,b)\n",
    "dt1 = datetime.now() - t0\n",
    "\n",
    "t0 = datetime.now()\n",
    "for t in range(T):\n",
    "    A.dot(B)\n",
    "dt2 = datetime.now() - t0\n",
    "\n",
    "print('for a 3x3 matrix dt1/dt2:', dt1.total_seconds()/dt2.total_seconds())"
   ]
  },
  {
   "cell_type": "code",
   "execution_count": 188,
   "metadata": {},
   "outputs": [
    {
     "name": "stdout",
     "output_type": "stream",
     "text": [
      "for a 3x3 matrix dt1/dt2: 10.406047516198704\n"
     ]
    }
   ],
   "source": [
    "def timing_tests(row_num, col_num,T):\n",
    "    a = np.random.randint(1,100, size=(row_num, col_num)).tolist()\n",
    "    b = np.random.randint(1,100, size=(row_num, col_num)).tolist()\n",
    "\n",
    "    A = np.random.randint(1,100, size=(row_num, col_num))\n",
    "    B = np.random.randint(1,100, size=(row_num, col_num))\n",
    "    \n",
    "    t0 = datetime.now()\n",
    "    for t in range(T):\n",
    "        mat_mul(a,b)\n",
    "    dt1 = datetime.now() - t0\n",
    "\n",
    "    t0 = datetime.now()\n",
    "    for t in range(T):\n",
    "        A.dot(B)\n",
    "    dt2 = datetime.now() - t0\n",
    "    \n",
    "    print('for a {r}x{c} matrix dt1/dt2: {ratio}'.format(r=row_num, c=col_num, ratio=dt1.total_seconds()/dt2.total_seconds())) \n",
    "    "
   ]
  },
  {
   "cell_type": "code",
   "execution_count": 195,
   "metadata": {},
   "outputs": [
    {
     "name": "stdout",
     "output_type": "stream",
     "text": [
      "for a 1x1 matrix dt1/dt2: 2.867008866075595\n",
      "for a 2x2 matrix dt1/dt2: 7.4\n",
      "for a 3x3 matrix dt1/dt2: 18.532894736842106\n",
      "for a 4x4 matrix dt1/dt2: 25.39060568603214\n",
      "for a 5x5 matrix dt1/dt2: 38.780748663101605\n",
      "for a 6x6 matrix dt1/dt2: 49.6390243902439\n",
      "for a 7x7 matrix dt1/dt2: 52.70674740484429\n",
      "for a 8x8 matrix dt1/dt2: 75.08293838862559\n",
      "for a 9x9 matrix dt1/dt2: 89.84745762711866\n",
      "for a 10x10 matrix dt1/dt2: 91.2435970404098\n",
      "for a 11x11 matrix dt1/dt2: 118.45731707317073\n",
      "for a 12x12 matrix dt1/dt2: 117.66108374384237\n",
      "for a 13x13 matrix dt1/dt2: 133.43250444049733\n",
      "for a 14x14 matrix dt1/dt2: 125.82992465016146\n",
      "for a 15x15 matrix dt1/dt2: 168.72876516773732\n",
      "for a 16x16 matrix dt1/dt2: 153.43919974992184\n",
      "for a 17x17 matrix dt1/dt2: 151.75751295336786\n",
      "for a 18x18 matrix dt1/dt2: 163.84990347490347\n",
      "for a 19x19 matrix dt1/dt2: 163.41153205661948\n",
      "for a 20x20 matrix dt1/dt2: 168.73219900129462\n"
     ]
    }
   ],
   "source": [
    "for i in range(1,21):\n",
    "    timing_tests(i,i,1000)"
   ]
  },
  {
   "cell_type": "code",
   "execution_count": null,
   "metadata": {},
   "outputs": [],
   "source": [
    "\"\"\"\n",
    "Resources\n",
    "\n",
    "turning flat list into nested adapted from: https://stackoverflow.com/questions/24180879/python-check-if-a-list-is-nested-or-not\n",
    "\n",
    "\"\"\""
   ]
  }
 ],
 "metadata": {
  "kernelspec": {
   "display_name": "Python 3",
   "language": "python",
   "name": "python3"
  },
  "language_info": {
   "codemirror_mode": {
    "name": "ipython",
    "version": 3
   },
   "file_extension": ".py",
   "mimetype": "text/x-python",
   "name": "python",
   "nbconvert_exporter": "python",
   "pygments_lexer": "ipython3",
   "version": "3.8.3"
  }
 },
 "nbformat": 4,
 "nbformat_minor": 4
}
